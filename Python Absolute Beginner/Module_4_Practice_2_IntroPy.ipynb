{
 "cells": [
  {
   "cell_type": "markdown",
   "metadata": {},
   "source": [
    "# 1-7.2 Intro Python Practice\n",
    "## `while()` loops & increments\n",
    "<font size=\"5\" color=\"#00A0B2\"  face=\"verdana\"> <B>Student will be able to</B></font>\n",
    "- create forever loops using `while` and `break`\n",
    "- use incrementing variables in a while loop\n",
    "- control while loops using Boolean operators"
   ]
  },
  {
   "cell_type": "code",
   "execution_count": 11,
   "metadata": {},
   "outputs": [
    {
     "name": "stdout",
     "output_type": "stream",
     "text": [
      "Enter an integer (or non-numeric to exit): 3\n",
      "Enter an integer (or non-numeric to exit): 3\n",
      "Enter an integer (or non-numeric to exit): 2\n",
      "Enter an integer (or non-numeric to exit): 1\n",
      "Enter an integer (or non-numeric to exit): d\n",
      "The sum of all entered numbers is 9\n"
     ]
    }
   ],
   "source": [
    "# [ ] use a \"forever\" while loop to get user input of integers to add to sum, \n",
    "# until a non-digit is entered, then break the loop and print sum\n",
    "sum_of_numbers = 0\n",
    "number = \"\"\n",
    "\n",
    "while True:\n",
    "    number = input (\"Enter an integer (or non-numeric to exit): \")\n",
    "    if number.isnumeric():\n",
    "        sum_of_numbers = sum_of_numbers + int(number)\n",
    "    else:\n",
    "        break\n",
    "        \n",
    "print (\"The sum of all entered numbers is\", sum_of_numbers)\n"
   ]
  },
  {
   "cell_type": "code",
   "execution_count": 27,
   "metadata": {},
   "outputs": [
    {
     "name": "stdout",
     "output_type": "stream",
     "text": [
      "Enter a color of the rainbow.orange\n",
      "Correct!\n"
     ]
    }
   ],
   "source": [
    "# [ ] use a while True loop (forever loop) to give 4 chances for input of a correct color in a rainbow\n",
    "rainbow = \"red orange yellow green blue indigo violet\"\n",
    "count = 0\n",
    "guess = \"\"\n",
    "\n",
    "while True:\n",
    "    guess = input (\"Enter a color of the rainbow.\")\n",
    "    guess = guess.lower()\n",
    "    if guess == \"red\":\n",
    "        print (\"Correct!\")\n",
    "        break\n",
    "    elif guess == \"orange\":\n",
    "        print (\"Correct!\")\n",
    "        break\n",
    "    elif guess == \"yellow\":\n",
    "        print (\"Correct!\")\n",
    "        break\n",
    "    elif guess == \"green\":\n",
    "        print (\"Correct!\")\n",
    "        break\n",
    "    elif guess == \"blue\":\n",
    "        print (\"Correct!\")\n",
    "        break\n",
    "    elif guess == \"indigo\":\n",
    "        print (\"Correct!\")\n",
    "        break\n",
    "    elif guess == \"violet\":\n",
    "        print (\"Correct!\")\n",
    "        break\n",
    "    else:\n",
    "        if count < 3:\n",
    "            count += 1\n",
    "            print (\"Nope, try again.\", 4 - count, \"attempts remain.\")\n",
    "        elif count >= 3 :\n",
    "            print (\"Out of guesses\")\n",
    "            break"
   ]
  },
  {
   "cell_type": "code",
   "execution_count": 30,
   "metadata": {},
   "outputs": [
    {
     "name": "stdout",
     "output_type": "stream",
     "text": [
      "Name a book: How to Train your Dragon\n",
      "Name a book: How To Train Your Dragon\n",
      "That is a title.\n"
     ]
    }
   ],
   "source": [
    "# [ ] Get input for a book title, keep looping while input is Not in title format (title is every word capitalized)\n",
    "title = \"\"\n",
    "\n",
    "while True:\n",
    "    title = input (\"Name a book: \")\n",
    "    if title.istitle():\n",
    "        print(\"That is a title.\")\n",
    "        break\n",
    "\n"
   ]
  },
  {
   "cell_type": "code",
   "execution_count": 31,
   "metadata": {},
   "outputs": [
    {
     "name": "stdout",
     "output_type": "stream",
     "text": [
      "What is 2+2?23\n",
      "Sorry, no. Please try again\n",
      "What is 2+2?4\n",
      "Correct!\n"
     ]
    }
   ],
   "source": [
    "# [ ] create a math quiz question and ask for the solution until the input is correct\n",
    "answer = 4\n",
    "guess = 0\n",
    "\n",
    "while True:\n",
    "    guess = int(input (\"What is 2+2?\"))\n",
    "    if guess == answer:\n",
    "        print (\"Correct!\")\n",
    "        break\n",
    "    else:\n",
    "        print (\"Sorry, no. Please try again\")\n"
   ]
  },
  {
   "cell_type": "markdown",
   "metadata": {},
   "source": [
    "### Fix the Error"
   ]
  },
  {
   "cell_type": "code",
   "execution_count": 34,
   "metadata": {},
   "outputs": [
    {
     "name": "stdout",
     "output_type": "stream",
     "text": [
      "enter tickets remaining (0 to quit): 3\n",
      "you win!\n",
      "enter tickets remaining (0 to quit): 2\n",
      "sorry, not a winner.\n",
      "enter tickets remaining (0 to quit): 67\n",
      "sorry, not a winner.\n",
      "enter tickets remaining (0 to quit): 66\n",
      "you win!\n",
      "enter tickets remaining (0 to quit): 0\n",
      "Game ended\n"
     ]
    }
   ],
   "source": [
    "## [ ] review the code, run, fix the error\n",
    "tickets = int(input(\"enter tickets remaining (0 to quit): \"))\n",
    "\n",
    "while tickets > 0:\n",
    "        # if tickets are multiple of 3 then \"winner\"\n",
    "    if int(tickets/3) == tickets/3:\n",
    "        print(\"you win!\")\n",
    "    else:\n",
    "        print(\"sorry, not a winner.\")\n",
    "    tickets = int(input(\"enter tickets remaining (0 to quit): \"))\n",
    "\n",
    "print(\"Game ended\")\n",
    "    \n"
   ]
  },
  {
   "cell_type": "markdown",
   "metadata": {},
   "source": [
    "### create a function: quiz_item()  that asks a question and tests if input is correct  \n",
    "- quiz_item()has 2 parameter **strings**: question and solution  \n",
    "- shows question, gets answer input  \n",
    "- returns True if `answer == solution` or continues to ask question until correct answer is provided  \n",
    "- use a while loop\n",
    "\n",
    "create 2 or more quiz questions that call quiz_item()  \n",
    "**Hint**: provide multiple choice or T/F answers"
   ]
  },
  {
   "cell_type": "code",
   "execution_count": 38,
   "metadata": {},
   "outputs": [
    {
     "name": "stdout",
     "output_type": "stream",
     "text": [
      "What is the answer to life the universe and everything?32\n",
      "Try again!\n",
      "What is the answer to life the universe and everything?3254\n",
      "Try again!\n",
      "What is the answer to life the universe and everything?42\n",
      "Correct!\n",
      "What is the question to life the universe and everything?What is 2\n",
      "Try again!\n",
      "What is the question to life the universe and everything?What is 6x9?\n",
      "Correct!\n"
     ]
    }
   ],
   "source": [
    "# Create quiz_item() and 2 or more quiz questions that call quiz_item()\n",
    "\n",
    "quest = \"\"\n",
    "soln_1 = \"42\"\n",
    "soln_2 = \"What is 6x9?\"\n",
    "\n",
    "def quiz_item (question, solution):\n",
    "    if question == solution:\n",
    "        print (\"Correct!\")\n",
    "        return True\n",
    "    else:\n",
    "        return False\n",
    "    \n",
    "\n",
    "while True:\n",
    "    quest = input (\"What is the answer to life the universe and everything? \")\n",
    "    if quiz_item(quest, soln_1):\n",
    "        break\n",
    "    else:\n",
    "        print (\"Try again!\")\n",
    "    \n",
    "while True:\n",
    "    quest = input (\"What is the question to life the universe and everything? \")\n",
    "    if quiz_item(quest, soln_2):\n",
    "        break\n",
    "    else:\n",
    "        print (\"Try again!\")"
   ]
  },
  {
   "cell_type": "markdown",
   "metadata": {
    "collapsed": true
   },
   "source": [
    "[Terms of use](http://go.microsoft.com/fwlink/?LinkID=206977) &nbsp; [Privacy & cookies](https://go.microsoft.com/fwlink/?LinkId=521839) &nbsp; © 2017 Microsoft"
   ]
  }
 ],
 "metadata": {
  "anaconda-cloud": {},
  "kernelspec": {
   "display_name": "Python 3",
   "language": "python",
   "name": "python3"
  },
  "language_info": {
   "codemirror_mode": {
    "name": "ipython",
    "version": 3
   },
   "file_extension": ".py",
   "mimetype": "text/x-python",
   "name": "python",
   "nbconvert_exporter": "python",
   "pygments_lexer": "ipython3",
   "version": "3.8.8"
  }
 },
 "nbformat": 4,
 "nbformat_minor": 1
}
