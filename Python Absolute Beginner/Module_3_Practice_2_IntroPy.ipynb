{
 "cells": [
  {
   "cell_type": "markdown",
   "metadata": {},
   "source": [
    "# 1-5 Intro Python Practice  \n",
    "## conditionals, type, and mathematics extended   \n",
    "&nbsp;\n",
    "<font size=\"5\" color=\"#00A0B2\"  face=\"verdana\"> <B>Student will be able to</B></font>  \n",
    "- code more than two choices using **`elif`** \n",
    "- gather numeric input using type casting  \n",
    "- perform subtraction, multiplication and division operations in code  &nbsp;  \n"
   ]
  },
  {
   "cell_type": "markdown",
   "metadata": {},
   "source": [
    "# &nbsp;  \n",
    "<font size=\"6\" color=\"#B24C00\"  face=\"verdana\"> <B>Tasks</B></font>"
   ]
  },
  {
   "cell_type": "markdown",
   "metadata": {},
   "source": [
    "### Rainbow colors\n",
    "ask for input of a favorite rainbow color first letter: ROYGBIV  \n",
    "\n",
    "Using `if`, `elif`, and `else`:  \n",
    "- print the color matching the letter  \n",
    "    - R = Red  \n",
    "    - O = Orange  \n",
    "    - Y = Yellow  \n",
    "    - G = Green\n",
    "    - B = Blue\n",
    "    - I = Indigo\n",
    "    - V = Violet\n",
    "    - else print \"no match\"\n"
   ]
  },
  {
   "cell_type": "code",
   "execution_count": 6,
   "metadata": {},
   "outputs": [
    {
     "name": "stdout",
     "output_type": "stream",
     "text": [
      "Enter one of 'ROYGBIV'V\n",
      "Violet\n"
     ]
    }
   ],
   "source": [
    "# [ ] complete rainbow colors\n",
    "\n",
    "color = input (\"Enter one of 'ROYGBIV'\")\n",
    "\n",
    "if color == \"R\":\n",
    "    print (\"Red\")\n",
    "elif color == \"O\":\n",
    "    print (\"Orange\")\n",
    "elif color == \"Y\":\n",
    "    print (\"Yellow\")\n",
    "elif color == \"G\":\n",
    "    print (\"Green\")\n",
    "elif color == \"B\":\n",
    "    print (\"Blue\")\n",
    "elif color == \"I\":\n",
    "    print (\"Indigo\")\n",
    "elif color == \"V\":\n",
    "    print (\"Violet\")\n",
    "else:\n",
    "    print (\"no match\")\n",
    "\n"
   ]
  },
  {
   "cell_type": "code",
   "execution_count": 9,
   "metadata": {},
   "outputs": [
    {
     "name": "stdout",
     "output_type": "stream",
     "text": [
      "Enter one of 'ROYGBIV'V\n",
      "Violet\n"
     ]
    }
   ],
   "source": [
    "# [ ] make the code above into a function rainbow_color() that has a string parameter, \n",
    "# get input and call the function and return the matching color as a string or \"no match\" message.\n",
    "# Call the function and print the return string.\n",
    "\n",
    "def rainbow_color (clr):\n",
    "    if color == \"R\":\n",
    "        return (\"Red\")\n",
    "    elif color == \"O\":\n",
    "        return (\"Orange\")\n",
    "    elif color == \"Y\":\n",
    "        return (\"Yellow\")\n",
    "    elif color == \"G\":\n",
    "        return (\"Green\")\n",
    "    elif color == \"B\":\n",
    "        return (\"Blue\")\n",
    "    elif color == \"I\":\n",
    "        return (\"Indigo\")\n",
    "    elif color == \"V\":\n",
    "        return (\"Violet\")\n",
    "    else:\n",
    "        return (\"no match\")\n",
    "    \n",
    "color = input (\"Enter one of 'ROYGBIV'\")\n",
    "print (rainbow_color(color))\n",
    "    "
   ]
  },
  {
   "cell_type": "markdown",
   "metadata": {},
   "source": [
    "# &nbsp;  \n",
    "**Create function age_20() that adds or subtracts 20 from your age for a return value based on current age** (use `if`) \n",
    "- call the funtion with user input and then use the return value in a sentence  \n",
    "example `age_20(25)` returns **5**: \n",
    "> \"5 years old, 20 years difference from now\""
   ]
  },
  {
   "cell_type": "code",
   "execution_count": 17,
   "metadata": {},
   "outputs": [
    {
     "name": "stdout",
     "output_type": "stream",
     "text": [
      "Enter your age: 2\n",
      "22 years old, 20 years from now\n"
     ]
    }
   ],
   "source": [
    "# [ ] complete age_20()\n",
    "def age_20 (age):\n",
    "    if age <= 20:\n",
    "        return age + 20\n",
    "    elif age > 20:\n",
    "        return age - 20\n",
    "    \n",
    "print (age_20 (int(input(\"Enter your age: \"))), \"years old, 20 years from now\")\n",
    "\n"
   ]
  },
  {
   "cell_type": "markdown",
   "metadata": {},
   "source": [
    "**create a function rainbow_or_age that takes a string argument**\n",
    "- if argument is a digit return the value of calling age_20() with the str value cast as **`int`** \n",
    "- if argument is an alphabetical character return the value of calling rainbow_color() with the str\n",
    "- if neither return FALSE"
   ]
  },
  {
   "cell_type": "code",
   "execution_count": 18,
   "metadata": {},
   "outputs": [],
   "source": [
    "# [ ]  create rainbow_or_age()\n",
    "def rainbow_or_age (param):\n",
    "    if param.isnum():\n",
    "        return age_20 (int(param))\n",
    "    elif param.isalpha():\n",
    "        return rainbow_color(param)\n",
    "    else:\n",
    "        return False"
   ]
  },
  {
   "cell_type": "code",
   "execution_count": 24,
   "metadata": {},
   "outputs": [
    {
     "name": "stdout",
     "output_type": "stream",
     "text": [
      "Enter a number: 3\n",
      "Enter a second number: 4\n",
      "7\n"
     ]
    }
   ],
   "source": [
    "# [ ]  add 2 numbers from input using a cast to integer and display the answer \n",
    "print (int(input(\"Enter a number: \")) + int(input(\"Enter a second number: \"))) \n"
   ]
  },
  {
   "cell_type": "code",
   "execution_count": 21,
   "metadata": {},
   "outputs": [
    {
     "name": "stdout",
     "output_type": "stream",
     "text": [
      "Enter a number: 3\n",
      "Enter a second number: 6\n",
      "The answer is 18\n"
     ]
    }
   ],
   "source": [
    "# [ ] Multiply 2 numbers from input using cast and save the answer as part of a string \"the answer is...\"\n",
    "# display the string using print\n",
    "product = str((int(input(\"Enter a number: \")) * int(input(\"Enter a second number: \"))))\n",
    "print (\"The answer is\", product)\n",
    "\n"
   ]
  },
  {
   "cell_type": "code",
   "execution_count": 26,
   "metadata": {},
   "outputs": [
    {
     "name": "stdout",
     "output_type": "stream",
     "text": [
      "Enter a number: 5\n",
      "Enter a second number: 6\n",
      "The average is 5.5\n"
     ]
    }
   ],
   "source": [
    "# [ ] get input of 2 numbers and display the average: (num1 + num2) divided by 2\n",
    "print (\"The average is\", ((int(input(\"Enter a number: \")) + int(input(\"Enter a second number: \")))/2)) \n"
   ]
  },
  {
   "cell_type": "code",
   "execution_count": 29,
   "metadata": {},
   "outputs": [
    {
     "name": "stdout",
     "output_type": "stream",
     "text": [
      "Enter a number: 3\n",
      "Enter a second number: 3\n",
      "The difference is  0\n"
     ]
    }
   ],
   "source": [
    "# [ ] get input of 2 numbers and subtract the largest from the smallest (use an if statement to see which is larger)\n",
    "# show the answer\n",
    "num_1 = int(input(\"Enter a number: \"))\n",
    "num_2 = int(input(\"Enter a second number: \"))\n",
    "\n",
    "if num_1 < num_2:\n",
    "    print (\"The difference is \", num_2 - num_1)\n",
    "elif num_1 >= num_2:\n",
    "    print (\"The difference is \", num_1 - num_2)\n"
   ]
  },
  {
   "cell_type": "code",
   "execution_count": 35,
   "metadata": {},
   "outputs": [
    {
     "name": "stdout",
     "output_type": "stream",
     "text": [
      "Enter a number: 0\n",
      "Enter a second number: -1\n",
      "The difference is  0\n"
     ]
    }
   ],
   "source": [
    "# [ ] Divide a larger number by a smaller number and print the integer part of the result\n",
    "# don't divide by zero! if a zero is input make the result zero\n",
    "# [ ] cast the answer to an integer to cut off the decimals and print the result\n",
    "num_1 = int(input(\"Enter a number: \"))\n",
    "num_2 = int(input(\"Enter a second number: \"))\n",
    "\n",
    "if num_1 < num_2:\n",
    "    if num_1 != 0:\n",
    "        print (\"The difference is \", int(num_2 / num_1))\n",
    "        pass\n",
    "    else:\n",
    "        print (\"This would lead to a divide by 0 error.\")\n",
    "        pass\n",
    "elif num_1 >= num_2:\n",
    "    if num_2 != 0:\n",
    "        print (\"The difference is \", int(num_1 / num_2))\n",
    "        pass\n",
    "    else:\n",
    "        print (\"This would lead to a divide by 0 error.\")\n",
    "        pass\n"
   ]
  },
  {
   "cell_type": "markdown",
   "metadata": {},
   "source": [
    "[Terms of use](http://go.microsoft.com/fwlink/?LinkID=206977) &nbsp; [Privacy & cookies](https://go.microsoft.com/fwlink/?LinkId=521839) &nbsp; © 2017 Microsoft"
   ]
  }
 ],
 "metadata": {
  "anaconda-cloud": {},
  "kernelspec": {
   "display_name": "Python 3",
   "language": "python",
   "name": "python3"
  },
  "language_info": {
   "codemirror_mode": {
    "name": "ipython",
    "version": 3
   },
   "file_extension": ".py",
   "mimetype": "text/x-python",
   "name": "python",
   "nbconvert_exporter": "python",
   "pygments_lexer": "ipython3",
   "version": "3.8.8"
  }
 },
 "nbformat": 4,
 "nbformat_minor": 1
}
