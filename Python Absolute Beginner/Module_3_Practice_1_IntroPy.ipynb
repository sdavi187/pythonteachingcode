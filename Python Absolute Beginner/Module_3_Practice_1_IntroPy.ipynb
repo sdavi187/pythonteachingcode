{
 "cells": [
  {
   "cell_type": "markdown",
   "metadata": {},
   "source": [
    "# 1-4.3 Intro Python Practice\n",
    "## Conditionals \n",
    "<font size=\"5\" color=\"#00A0B2\"  face=\"verdana\"> <B>Student will be able to</B></font>  \n",
    "- **control code flow with `if`... `else` conditional logic**  \n",
    "  - using Boolean string methods (`.isupper(), .isalpha(), .startswith()...`)  \n",
    "  - using comparision (`>, <, >=, <=, ==, !=`)  \n",
    "  - using Strings in comparisons  "
   ]
  },
  {
   "cell_type": "markdown",
   "metadata": {},
   "source": [
    "## `if else`\n"
   ]
  },
  {
   "cell_type": "code",
   "execution_count": 8,
   "metadata": {},
   "outputs": [
    {
     "name": "stdout",
     "output_type": "stream",
     "text": [
      "Enter an Age:11\n",
      "It's good to be 11\n"
     ]
    }
   ],
   "source": [
    "# [ ] input avariable: age as digit and cast to int\n",
    "# if age greater than or equal to 12 then print message on age in 10 years \n",
    "# or else print message \"It is good to be\" age\n",
    "\n",
    "age = int(input(\"Enter an Age:\"))\n",
    "          \n",
    "if (age >= 12):\n",
    "    print (\"In 10 years, this person will be \", (age+10))\n",
    "else:\n",
    "    print (\"It's good to be\", age)\n",
    "\n",
    "\n"
   ]
  },
  {
   "cell_type": "code",
   "execution_count": 14,
   "metadata": {},
   "outputs": [
    {
     "name": "stdout",
     "output_type": "stream",
     "text": [
      "Enter a number: 1000\n",
      "The number entered is greater than 100?: True\n"
     ]
    }
   ],
   "source": [
    "# [ ] input a number \n",
    "# if number IS a digit string then cast to int\n",
    "# print number \"greater than 100 is\" True/False\n",
    "# if number is NOT a digit string then message the user that \"only int is accepted\"\n",
    "\n",
    "num = input (\"Enter a number: \")\n",
    "\n",
    "if num.isnumeric():\n",
    "    print (\"The number entered is greater than 100?:\", int(num) > 100)\n",
    "else:\n",
    "    print (\"Invalid Entry\")\n",
    "\n"
   ]
  },
  {
   "cell_type": "markdown",
   "metadata": {},
   "source": [
    "### Guessing a letter A-Z  \n",
    "**check_guess()** takes 2 string arguments: **letter and guess** (both expect single alphabetical character)   \n",
    "    - if guess is not an alpha character print invalid and return False\n",
    "    - test and print if guess is \"high\" or \"low\" and return False\n",
    "    - test and print if guess is \"correct\" and return True"
   ]
  },
  {
   "cell_type": "code",
   "execution_count": 38,
   "metadata": {},
   "outputs": [],
   "source": [
    "# [ ] create check_guess()\n",
    "# call with test\n",
    "# answer = input(\"Enter a number: \")\n",
    "# guess = input(\"Enter a guess:\")\n",
    "\n",
    "def check_guess(ans, gue):\n",
    "    if gue.isalnum() == False:\n",
    "        print (\"Invalid Guess\")\n",
    "        return (False)\n",
    "    elif gue == ans:\n",
    "        print (\"Correct!\")\n",
    "        return (True)\n",
    "    elif gue > ans:\n",
    "        print (\"High\")\n",
    "        return (False)\n",
    "    elif gue < ans:\n",
    "        print (\"Low\")\n",
    "        return (False)\n",
    "    \n",
    "\n",
    "\n"
   ]
  },
  {
   "cell_type": "code",
   "execution_count": 42,
   "metadata": {},
   "outputs": [
    {
     "name": "stdout",
     "output_type": "stream",
     "text": [
      "Enter a number:f\n",
      "Enter a guess F\n",
      "Low\n"
     ]
    },
    {
     "data": {
      "text/plain": [
       "False"
      ]
     },
     "execution_count": 42,
     "metadata": {},
     "output_type": "execute_result"
    }
   ],
   "source": [
    "# [ ] call check_guess with user input\n",
    "check_guess (input(\"Enter a number:\"), input(\"Enter a guess \"))\n"
   ]
  },
  {
   "cell_type": "markdown",
   "metadata": {},
   "source": [
    "### Letter Guess\n",
    "**create letter_guess() function that gives user 3 guesses**\n",
    "- takes a letter character argument for the answer letter\n",
    "- gets user input for letter guess  \n",
    "- calls check_guess() with answer and guess\n",
    "- End letter_guess if \n",
    "    - check_guess() equals True, return True  \n",
    "    - or after 3 failed attempts, return False"
   ]
  },
  {
   "cell_type": "code",
   "execution_count": 45,
   "metadata": {},
   "outputs": [
    {
     "name": "stdout",
     "output_type": "stream",
     "text": [
      "Enter your first guess:1214134\n",
      "Low\n",
      "Enter your second guess:3\n",
      "Low\n",
      "Enter your third guess:\n",
      "Invalid Guess\n"
     ]
    },
    {
     "data": {
      "text/plain": [
       "False"
      ]
     },
     "execution_count": 45,
     "metadata": {},
     "output_type": "execute_result"
    }
   ],
   "source": [
    "# [ ] create letter_guess() function, call the function to test\n",
    "\n",
    "def letter_guess(ans = \"5\"):\n",
    "    if check_guess(ans, input(\"Enter your first guess:\")):\n",
    "        return (True)\n",
    "    elif check_guess(ans, input(\"Enter your second guess:\")):\n",
    "        return (True)\n",
    "    elif check_guess(ans, input(\"Enter your third guess:\")):\n",
    "        return (True)\n",
    "    else:\n",
    "        return (False)\n",
    "    \n",
    "letter_guess(\"4\")\n"
   ]
  },
  {
   "cell_type": "markdown",
   "metadata": {},
   "source": [
    "### Pet Conversation\n",
    "**ask the user for a sentence about a pet and then reply**  \n",
    "- get user input in variable: about_pet\n",
    "- using a series of **if** statements respond with appropriate conversation\n",
    "  - check if \"dog\" is in the string about_pet (sample reply \"Ah, a dog\")\n",
    "  - check if \"cat\" is in the string about_pet\n",
    "  - check if 1 or more animal is in string about_pet\n",
    "- no need for **else**'s\n",
    "- finish with thanking for the story"
   ]
  },
  {
   "cell_type": "code",
   "execution_count": 49,
   "metadata": {},
   "outputs": [
    {
     "name": "stdout",
     "output_type": "stream",
     "text": [
      "Give me a sentence about a pet. :My hamster is silly\n",
      "Thanks for the story\n"
     ]
    }
   ],
   "source": [
    "# [ ] complete pet conversation\n",
    "about_pet = input(\"Give me a sentence about a pet. :\")\n",
    "\n",
    "if \"dog\" in about_pet:\n",
    "    print (\"Ah, a dog.\")\n",
    "elif \"cat\" in about_pet:\n",
    "    print (\"Good Kitty!\")\n",
    "elif \"fish\" in about_pet:\n",
    "    print (\"Pudge controls the weather!\")\n",
    "\n",
    "    \n",
    "print (\"Thanks for the story\")\n"
   ]
  },
  {
   "cell_type": "markdown",
   "metadata": {
    "collapsed": true
   },
   "source": [
    "[Terms of use](http://go.microsoft.com/fwlink/?LinkID=206977) &nbsp; [Privacy & cookies](https://go.microsoft.com/fwlink/?LinkId=521839) &nbsp; © 2017 Microsoft"
   ]
  }
 ],
 "metadata": {
  "anaconda-cloud": {},
  "kernelspec": {
   "display_name": "Python 3",
   "language": "python",
   "name": "python3"
  },
  "language_info": {
   "codemirror_mode": {
    "name": "ipython",
    "version": 3
   },
   "file_extension": ".py",
   "mimetype": "text/x-python",
   "name": "python",
   "nbconvert_exporter": "python",
   "pygments_lexer": "ipython3",
   "version": "3.8.8"
  }
 },
 "nbformat": 4,
 "nbformat_minor": 1
}
