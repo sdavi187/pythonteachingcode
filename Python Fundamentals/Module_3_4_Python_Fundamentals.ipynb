{
 "cells": [
  {
   "cell_type": "markdown",
   "metadata": {},
   "source": [
    "# 2-3.4 Intro Python\n",
    "# The Power of List Iteration\n",
    "- for in: **`for`** loop using **`in`**\n",
    "- for range: **`for range(start,stop,step)`** \n",
    "- more list methods: **`.extend()`, `+, .reverse(), .sort()`**     \n",
    "- **strings to lists,`.split()`, and list to strings, `.join()`** \n",
    "- **list cast & `print(\"hello\", end='')`**\n",
    "\n",
    "\n",
    "----- \n",
    "\n",
    "><font size=\"5\" color=\"#00A0B2\"  face=\"verdana\"> <B>Student will be able to</B></font>  \n",
    "- Iterate through Lists using **`for`** with **`in`**\n",
    "- Use **`for range()`** in looping operations  \n",
    "- Use list methods **`.extend()`, `+, .reverse(), .sort()`**  \n",
    "- **convert between lists and strings using  `.split()` and `.join()`**\n",
    "- **cast strings to lists / direct multiple print outputs to a single line**"
   ]
  },
  {
   "cell_type": "markdown",
   "metadata": {},
   "source": [
    "# &nbsp;\n",
    "<font size=\"6\" color=\"#00A0B2\"  face=\"verdana\"> <B>Concepts</B></font>\n",
    "## Converting a string to a list with `.split()`\n",
    "[![view video](https://iajupyterprodblobs.blob.core.windows.net/imagecontainer/common/play_video.png)]( http://edxinteractivepage.blob.core.windows.net/edxpages/f7cff1a7-5601-48a1-95a6-fd1fdfabd20e.html?details=[{\"src\":\"http://jupyternootbookwams.streaming.mediaservices.windows.net/1a076a9c-842f-455f-91bf-48db837842e8/Unit2_Section3.4a-Split_on_Breaks.ism/manifest\",\"type\":\"application/vnd.ms-sstr+xml\"}],[{\"src\":\"http://jupyternootbookwams.streaming.mediaservices.windows.net/1a076a9c-842f-455f-91bf-48db837842e8/Unit2_Section3.4a-Split_on_Breaks.vtt\",\"srclang\":\"en\",\"kind\":\"subtitles\",\"label\":\"english\"}])\n",
    "### `.split()`  by default, splits a string at spaces (\" \") to create a list\n",
    "```python\n",
    "tip = \"Notebooks can be exported as .pdf\"\n",
    "tip_words = tip.split()\n",
    "\n",
    "for word in tip_words:\n",
    "    print(word)\n",
    "```"
   ]
  },
  {
   "cell_type": "markdown",
   "metadata": {},
   "source": [
    "# &nbsp;\n",
    "<font size=\"6\" color=\"#00A0B2\"  face=\"verdana\"> <B>Examples</B></font>"
   ]
  },
  {
   "cell_type": "code",
   "execution_count": 1,
   "metadata": {},
   "outputs": [
    {
     "name": "stdout",
     "output_type": "stream",
     "text": [
      "STRING: Notebooks can be exported as .pdf\n",
      "LIST: ['Notebooks', 'can', 'be', 'exported', 'as', '.pdf'] \n",
      "\n",
      "Notebooks\n",
      "can\n",
      "be\n",
      "exported\n",
      "as\n",
      ".pdf\n"
     ]
    }
   ],
   "source": [
    "# [ ] review and run example\n",
    "tip = \"Notebooks can be exported as .pdf\"\n",
    "tip_words = tip.split()\n",
    "\n",
    "print(\"STRING:\", tip)\n",
    "print(\"LIST:\", tip_words, \"\\n\")\n",
    "\n",
    "for word in tip_words:\n",
    "    print(word)"
   ]
  },
  {
   "cell_type": "code",
   "execution_count": 2,
   "metadata": {},
   "outputs": [
    {
     "name": "stdout",
     "output_type": "stream",
     "text": [
      "down\n",
      "falling\n",
      "is\n",
      "bridge\n",
      "London\n"
     ]
    }
   ],
   "source": [
    "# [ ] review and run example\n",
    "rhyme = \"London bridge is falling down\"\n",
    "\n",
    "rhyme_words = rhyme.split()\n",
    "\n",
    "rhyme_words.reverse()\n",
    "\n",
    "for word in rhyme_words:\n",
    "    print(word)"
   ]
  },
  {
   "cell_type": "markdown",
   "metadata": {
    "collapsed": true
   },
   "source": [
    "# &nbsp;\n",
    "<font size=\"6\" color=\"#B24C00\"  face=\"verdana\"> <B>Task 1</B></font>\n",
    "\n",
    "### using `.split()`"
   ]
  },
  {
   "cell_type": "code",
   "execution_count": 4,
   "metadata": {},
   "outputs": [
    {
     "name": "stdout",
     "output_type": "stream",
     "text": [
      "Jack\n",
      "and\n",
      "Jill\n",
      "went\n",
      "up\n",
      "the\n",
      "hill\n",
      "To\n",
      "fetch\n",
      "a\n",
      "pail\n",
      "of\n",
      "water\n"
     ]
    }
   ],
   "source": [
    "# [ ] split the string(rhyme) into a list of words (rhyme_words)\n",
    "# [ ] print each word on it's own line\n",
    "rhyme = 'Jack and Jill went up the hill To fetch a pail of water' \n",
    "\n",
    "rhyme_words = rhyme.split()\n",
    "\n",
    "for word in rhyme_words:\n",
    "    print (word)\n",
    "\n"
   ]
  },
  {
   "cell_type": "code",
   "execution_count": 5,
   "metadata": {},
   "outputs": [
    {
     "name": "stdout",
     "output_type": "stream",
     "text": [
      "Python\n",
      "spaces\n",
      "indentation\n"
     ]
    }
   ],
   "source": [
    "# [ ] split code_tip into a list and print the first and every other word\n",
    "code_tip = \"Python uses spaces for indentation\"\n",
    "\n",
    "code_list = code_tip.split()\n",
    "\n",
    "for word in code_list[0::2]:\n",
    "    print (word)"
   ]
  },
  {
   "cell_type": "markdown",
   "metadata": {},
   "source": [
    "# &nbsp;\n",
    "<font size=\"6\" color=\"#00A0B2\"  face=\"verdana\"> <B>Concepts</B></font>\n",
    "## `.split('-')`\n",
    "[![view video](https://iajupyterprodblobs.blob.core.windows.net/imagecontainer/common/play_video.png)]( http://edxinteractivepage.blob.core.windows.net/edxpages/f7cff1a7-5601-48a1-95a6-fd1fdfabd20e.html?details=[{\"src\":\"http://jupyternootbookwams.streaming.mediaservices.windows.net/55d37e65-fb49-4bf5-87f8-fb987d3ce7a4/Unit2_Section3.4b-Split_on_Strings.ism/manifest\",\"type\":\"application/vnd.ms-sstr+xml\"}],[{\"src\":\"http://jupyternootbookwams.streaming.mediaservices.windows.net/55d37e65-fb49-4bf5-87f8-fb987d3ce7a4/Unit2_Section3.4b-Split_on_Strings.vtt\",\"srclang\":\"en\",\"kind\":\"subtitles\",\"label\":\"english\"}])\n",
    "### to split on characters other than \" \" (space), provide `.split()` a string argument to use as break points\n",
    "```python \n",
    "code_tip = \"Python-uses-spaces-for-indentation\"\n",
    "tip_words = code_tip.split('-')\n",
    "```"
   ]
  },
  {
   "cell_type": "markdown",
   "metadata": {},
   "source": [
    "### &nbsp;\n",
    "<font size=\"6\" color=\"#00A0B2\"  face=\"verdana\"> <B>Examples</B></font>  \n",
    "### `.split('-') : split with an argument"
   ]
  },
  {
   "cell_type": "code",
   "execution_count": 6,
   "metadata": {},
   "outputs": [
    {
     "name": "stdout",
     "output_type": "stream",
     "text": [
      "['Python', 'uses', 'spaces', 'for', 'indentation']\n"
     ]
    }
   ],
   "source": [
    "# [ ] review and run example\n",
    "code_tip = \"Python-uses-spaces-for-indentation\"\n",
    "tip_words = code_tip.split('-')\n",
    "\n",
    "print(tip_words)"
   ]
  },
  {
   "cell_type": "code",
   "execution_count": 7,
   "metadata": {},
   "outputs": [
    {
     "name": "stdout",
     "output_type": "stream",
     "text": [
      "Python uses spaces for indentation\n",
      "['Python uses sp', 'ces for indent', 'tion']\n"
     ]
    }
   ],
   "source": [
    "# [ ] review and run example - study the list print output\n",
    "code_tip = \"Python uses spaces for indentation\"\n",
    "\n",
    "# split on \"a\"\n",
    "tip_words = code_tip.split('a')\n",
    "print(code_tip)\n",
    "print(tip_words)"
   ]
  },
  {
   "cell_type": "code",
   "execution_count": 8,
   "metadata": {},
   "outputs": [
    {
     "name": "stdout",
     "output_type": "stream",
     "text": [
      "['Jack and Jill went up the hill', 'To fetch a pail of water', 'Jack fell down and broke his crown', 'And Jill came tumbling after'] \n",
      "\n",
      "And Jill came tumbling after\n",
      "Jack fell down and broke his crown\n",
      "To fetch a pail of water\n",
      "Jack and Jill went up the hill\n"
     ]
    }
   ],
   "source": [
    "# [ ] review and run example\n",
    "# triple quotes ''' ''' preserve formatting such as spaces and line breaks\n",
    "big_quote = \"\"\"Jack and Jill went up the hill\n",
    "To fetch a pail of water\n",
    "Jack fell down and broke his crown\n",
    "And Jill came tumbling after\"\"\"\n",
    "\n",
    "# split on line breaks (\\n)\n",
    "quote_lines = big_quote.split('\\n')\n",
    "print(quote_lines, '\\n')\n",
    "\n",
    "# print the list in reverse with index slicing\n",
    "for line in quote_lines[::-1]:\n",
    "    print(line)\n"
   ]
  },
  {
   "cell_type": "markdown",
   "metadata": {
    "collapsed": true
   },
   "source": [
    "# &nbsp;\n",
    "<font size=\"6\" color=\"#B24C00\"  face=\"verdana\"> <B>Task 2</B></font>\n",
    "\n",
    "## `.split()`"
   ]
  },
  {
   "cell_type": "code",
   "execution_count": 11,
   "metadata": {},
   "outputs": [
    {
     "name": "stdout",
     "output_type": "stream",
     "text": [
      "Write Code Frequently\n",
      "Save Code Frequently\n",
      "Comment Code Frequently\n",
      "Study Code Frequently\n",
      "\n"
     ]
    }
   ],
   "source": [
    "# [ ] split poem into a list of phrases by splitting on \"*\" a\n",
    "# [ ] print each phrase on a new line in title case\n",
    "poem = \"Write code frequently*Save code frequently*Comment code frequently*Study code frequently*\"\n",
    "poem_lines = poem.split('*')\n",
    "\n",
    "for line in poem_lines:\n",
    "    print (line.title())"
   ]
  },
  {
   "cell_type": "markdown",
   "metadata": {},
   "source": [
    "# &nbsp;\n",
    "<font size=\"6\" color=\"#00A0B2\"  face=\"verdana\"> <B>Concepts</B></font>  \n",
    "\n",
    "## `.join()` &nbsp; build a string from a list\n",
    "[![view video](https://iajupyterprodblobs.blob.core.windows.net/imagecontainer/common/play_video.png)]( http://edxinteractivepage.blob.core.windows.net/edxpages/f7cff1a7-5601-48a1-95a6-fd1fdfabd20e.html?details=[{\"src\":\"http://jupyternootbookwams.streaming.mediaservices.windows.net/57decc97-801f-4f7e-8ab6-69a47cf1be7b/Unit2_Section3.4c-Build_using_Join_Sequence.ism/manifest\",\"type\":\"application/vnd.ms-sstr+xml\"}],[{\"src\":\"http://jupyternootbookwams.streaming.mediaservices.windows.net/57decc97-801f-4f7e-8ab6-69a47cf1be7b/Unit2_Section3.4c-Build_using_Join_Sequence.vtt\",\"srclang\":\"en\",\"kind\":\"subtitles\",\"label\":\"english\"}])\n",
    "### `.join()` is a method applied to a separator string and iterates through its argument\n",
    "```python\n",
    "tip_words = ['Notebooks', 'can', 'be', 'exported', 'as', '.pdf'] \n",
    "\n",
    "\" \".join(tip_words)\n",
    "```\n",
    "a space (\" \") is the separator that gets injected between the objects in the argument (the list \"tip_words\")"
   ]
  },
  {
   "cell_type": "markdown",
   "metadata": {},
   "source": [
    "# &nbsp;\n",
    "<font size=\"6\" color=\"#00A0B2\"  face=\"verdana\"> <B>Examples</B></font>  \n",
    "## `.join()`"
   ]
  },
  {
   "cell_type": "code",
   "execution_count": 12,
   "metadata": {},
   "outputs": [
    {
     "name": "stdout",
     "output_type": "stream",
     "text": [
      "Notebooks can be exported as .pdf\n"
     ]
    }
   ],
   "source": [
    "# [ ] review and run example\n",
    "tip_words = ['Notebooks', 'can', 'be', 'exported', 'as', '.pdf'] \n",
    "\n",
    "# join tip_words objects with spaces\n",
    "print(\" \".join(tip_words))"
   ]
  },
  {
   "cell_type": "code",
   "execution_count": 13,
   "metadata": {},
   "outputs": [
    {
     "name": "stdout",
     "output_type": "stream",
     "text": [
      "Python\n"
     ]
    }
   ],
   "source": [
    "# [ ] review and run example\n",
    "no_space = \"\"\n",
    "letters = [\"P\", \"y\", \"t\", \"h\", \"o\", \"n\"]\n",
    "print(no_space.join(letters))"
   ]
  },
  {
   "cell_type": "code",
   "execution_count": 14,
   "metadata": {},
   "outputs": [
    {
     "name": "stdout",
     "output_type": "stream",
     "text": [
      "I-t-e-r-a-t-i-o-n\n",
      "I t e r a t i o n\n",
      "I...t...e...r...a...t...i...o...n\n"
     ]
    }
   ],
   "source": [
    "# [ ] review and run example - .join() iterates through sequences\n",
    "dash = \"-\"\n",
    "space = \" \"\n",
    "word = \"Iteration\"\n",
    "ellipises = \"...\"\n",
    "\n",
    "dash_join = dash.join(word)\n",
    "print(dash_join)\n",
    "print(space.join(word))\n",
    "print(ellipises.join(word))"
   ]
  },
  {
   "cell_type": "markdown",
   "metadata": {
    "collapsed": true
   },
   "source": [
    "# &nbsp;\n",
    "<font size=\"6\" color=\"#B24C00\"  face=\"verdana\"> <B>Task 3</B></font>  \n",
    "## `.join()`"
   ]
  },
  {
   "cell_type": "code",
   "execution_count": 17,
   "metadata": {},
   "outputs": [
    {
     "name": "stdout",
     "output_type": "stream",
     "text": [
      "A*s*t*e*r*i*s*k\n"
     ]
    }
   ],
   "source": [
    "# [ ] .join() letters list objects with an Asterisk: \"*\"\n",
    "letters = [\"A\", \"s\", \"t\", \"e\", \"r\", \"i\", \"s\", \"k\"]\n",
    "print (\"*\".join(letters))\n"
   ]
  },
  {
   "cell_type": "markdown",
   "metadata": {
    "collapsed": true
   },
   "source": [
    "# &nbsp;\n",
    "<font size=\"6\" color=\"#B24C00\"  face=\"verdana\"> <B>Task 4</B></font>  \n",
    "## Program: Choose the separator\n",
    "- get user input on what to use to join words (\" \", *, -, etc...) - store in variable: separator\n",
    "- join pharse_words with the separator and print"
   ]
  },
  {
   "cell_type": "code",
   "execution_count": 18,
   "metadata": {},
   "outputs": [
    {
     "name": "stdout",
     "output_type": "stream",
     "text": [
      "Enter a single character as a delimeter: %\n",
      "Jack%and%Jill%went%up%the%hill%To%fetch%a%pail%of%water\n"
     ]
    }
   ],
   "source": [
    "# [ ] complete Choose the separator\n",
    "phrase_words = ['Jack', 'and', 'Jill', 'went', 'up', 'the', 'hill', 'To', 'fetch', 'a', 'pail', 'of', 'water']\n",
    "\n",
    "delimeter = input (\"Enter a single character as a delimeter: \")\n",
    "print (delimeter.join(phrase_words))"
   ]
  },
  {
   "cell_type": "markdown",
   "metadata": {},
   "source": [
    "# &nbsp;\n",
    "<font size=\"6\" color=\"#00A0B2\"  face=\"verdana\"> <B>Concept</B></font>\n",
    "## More Python string tools (tricks?)\n",
    "[![view video](https://iajupyterprodblobs.blob.core.windows.net/imagecontainer/common/play_video.png)]( http://edxinteractivepage.blob.core.windows.net/edxpages/f7cff1a7-5601-48a1-95a6-fd1fdfabd20e.html?details=[{\"src\":\"http://jupyternootbookwams.streaming.mediaservices.windows.net/aa6eaea3-a3cb-41d8-aee3-280d01a9f4f0/Unit2_Section3.4d-Useful_String_Tricks.ism/manifest\",\"type\":\"application/vnd.ms-sstr+xml\"}],[{\"src\":\"http://jupyternootbookwams.streaming.mediaservices.windows.net/aa6eaea3-a3cb-41d8-aee3-280d01a9f4f0/Unit2_Section3.4d-Useful_String_Tricks.vtt\",\"srclang\":\"en\",\"kind\":\"subtitles\",\"label\":\"english\"}])\n",
    "### Cast a string to a list of characters  \n",
    "```python\n",
    "hello_letters = list(\"Hello\")\n",
    "```\n",
    "### print to the same line with multiple print statements (`end=`)\n",
    "or insert any character as an end in print(\"String\", end=\"+\")\n",
    "```python\n",
    "print('Hello', end = '')\n",
    "print('world')\n",
    "```"
   ]
  },
  {
   "cell_type": "markdown",
   "metadata": {},
   "source": [
    "# &nbsp;\n",
    "<font size=\"6\" color=\"#00A0B2\"  face=\"verdana\"> <B>Examples</B></font>"
   ]
  },
  {
   "cell_type": "code",
   "execution_count": 19,
   "metadata": {},
   "outputs": [
    {
     "name": "stdout",
     "output_type": "stream",
     "text": [
      "['H', 'e', 'l', 'l', 'o']\n"
     ]
    }
   ],
   "source": [
    "# [ ] review and run example\n",
    "hello_letters = list(\"Hello\")\n",
    "print(hello_letters)"
   ]
  },
  {
   "cell_type": "code",
   "execution_count": 20,
   "metadata": {},
   "outputs": [
    {
     "name": "stdout",
     "output_type": "stream",
     "text": [
      "c~o~n~c~a~t~e~n~a~t~e~s\n"
     ]
    }
   ],
   "source": [
    "# [ ] review and run example\n",
    "# cast sting to list\n",
    "word_letters = list(\"concatenates\")\n",
    "\n",
    "# .join() concatenates the list\n",
    "# print on same line setting the end character\n",
    "print('~'.join(word_letters))"
   ]
  },
  {
   "cell_type": "code",
   "execution_count": 21,
   "metadata": {},
   "outputs": [
    {
     "name": "stdout",
     "output_type": "stream",
     "text": [
      "Hello world\n"
     ]
    }
   ],
   "source": [
    "# [ ] review and run example\n",
    "print(\"Hello \", end = '')\n",
    "print(\"world\")"
   ]
  },
  {
   "cell_type": "code",
   "execution_count": 22,
   "metadata": {},
   "outputs": [
    {
     "name": "stdout",
     "output_type": "stream",
     "text": [
      "Hello World!\n",
      "still something to learn about print()\n"
     ]
    }
   ],
   "source": [
    "# [ ] review and run example\n",
    "# This  is the default print end\n",
    "print(\"Hello World!\", end=\"\\n\")\n",
    "print('still something to learn about print()')"
   ]
  },
  {
   "cell_type": "code",
   "execution_count": 23,
   "metadata": {},
   "outputs": [
    {
     "name": "stdout",
     "output_type": "stream",
     "text": [
      "C*o*n*c*a*t*e*n*a*t*i*o*n*"
     ]
    }
   ],
   "source": [
    "# [ ] review and run example\n",
    "# end inserts any valid str character: A-z, 0-9,!,@,*,\\n,\\t or ''(empty string)...\n",
    "for letter in \"Concatenation\":\n",
    "    print(letter, end='*')"
   ]
  },
  {
   "cell_type": "markdown",
   "metadata": {},
   "source": [
    "# &nbsp;\n",
    "<font size=\"6\" color=\"#B24C00\"  face=\"verdana\"> <B>Task 5</B></font>\n",
    "## `end=\" \" ` configuration in printing\n",
    "`print('The String', end='')`"
   ]
  },
  {
   "cell_type": "code",
   "execution_count": 25,
   "metadata": {},
   "outputs": [
    {
     "name": "stdout",
     "output_type": "stream",
     "text": [
      "HI-How are-You?\n"
     ]
    }
   ],
   "source": [
    "# [ ] use 3 print() statements to output text to one line \n",
    "# [ ] separate the lines by using \"- \" (dash space)\n",
    "\n",
    "print(\"HI\", end='-')\n",
    "print(\"How are\", end=\"-\")\n",
    "print(\"You?\")"
   ]
  },
  {
   "cell_type": "markdown",
   "metadata": {},
   "source": [
    "# &nbsp;\n",
    "<font size=\"6\" color=\"#B24C00\"  face=\"verdana\"> <B>Task 6</B></font>\n",
    "## cast: str to list\n",
    "`Msg_characters = list(\"Always test your code\")`"
   ]
  },
  {
   "cell_type": "code",
   "execution_count": 27,
   "metadata": {},
   "outputs": [
    {
     "name": "stdout",
     "output_type": "stream",
     "text": [
      "c-r-e-a-t-e-\n",
      "\n",
      "a-\n",
      "\n",
      "s-t-r-i-n-g-\n",
      "\n",
      "(-f-a-c-t-)-\n",
      "\n",
      "o-f-\n",
      "\n",
      "2-0-\n",
      "\n",
      "o-r-\n",
      "\n",
      "m-o-r-e-\n",
      "\n",
      "c-h-a-r-a-c-t-e-r-s-\n",
      "\n",
      "a-n-d-\n",
      "\n",
      "c-a-s-t-\n",
      "\n",
      "t-o-\n",
      "\n",
      "a-\n",
      "\n",
      "l-i-s-t-\n",
      "\n",
      "(-f-a-c-t-_-l-e-t-t-e-r-s-)-"
     ]
    }
   ],
   "source": [
    "# [ ] create a string (fact) of 20 or more characters and cast to a list (fact_letters)\n",
    "# [ ] iterate fact, printing each char on one line, except for spaces print a new line\n",
    "\n",
    "fact = \"create a string (fact) of 20 or more characters and cast to a list (fact_letters)\"\n",
    "fact_letters = list(fact)\n",
    "for char in fact_letters:\n",
    "    if char == \" \":\n",
    "        print (\"\\n\")\n",
    "    else:\n",
    "        print (char, end=\"-\")\n",
    "\n"
   ]
  },
  {
   "cell_type": "markdown",
   "metadata": {
    "collapsed": true
   },
   "source": [
    "# &nbsp;  \n",
    "<font size=\"6\" color=\"#B24C00\"  face=\"verdana\"> <B>Task 7</B></font>  \n",
    "## Program: add the digits\n",
    "- create a 20 digit string, and cast to a list\n",
    "- then add all the digits as integers\n",
    "- print the equation and answer  \n",
    "\n",
    "Hint: use cast to sum the digits, and .join() to create the equation (1+2+3+...)"
   ]
  },
  {
   "cell_type": "code",
   "execution_count": 60,
   "metadata": {},
   "outputs": [
    {
     "name": "stdout",
     "output_type": "stream",
     "text": [
      "1+2+3+4+5+6+7+8+9+10+11+1+1+1+5+6+7+8+9+20 = 124\n"
     ]
    }
   ],
   "source": [
    "# [ ] create add the digits\n",
    "digit = \"1 2 3 4 5 6 7 8 9 10 11 1 1 1 5 6 7 8 9 20\"\n",
    "integers = digit.split(\" \")\n",
    "total = 0\n",
    "equation = \"\"\n",
    "#print (integers)\n",
    "for num in integers:\n",
    "#    print (num)\n",
    "    total += int(num)\n",
    "    if num == \" \":\n",
    "        pass\n",
    "    else:\n",
    "        equation = \"+\".join(integers)\n",
    "#        equation = equation.append(num)\n",
    "    #print (num, end=\"+\")\n",
    "\n",
    "print (equation, \"=\", total)\n"
   ]
  },
  {
   "cell_type": "markdown",
   "metadata": {
    "collapsed": true
   },
   "source": [
    "[Terms of use](http://go.microsoft.com/fwlink/?LinkID=206977) &nbsp; [Privacy & cookies](https://go.microsoft.com/fwlink/?LinkId=521839) &nbsp; © 2017 Microsoft"
   ]
  }
 ],
 "metadata": {
  "anaconda-cloud": {},
  "kernelspec": {
   "display_name": "Python 3",
   "language": "python",
   "name": "python3"
  },
  "language_info": {
   "codemirror_mode": {
    "name": "ipython",
    "version": 3
   },
   "file_extension": ".py",
   "mimetype": "text/x-python",
   "name": "python",
   "nbconvert_exporter": "python",
   "pygments_lexer": "ipython3",
   "version": "3.8.8"
  }
 },
 "nbformat": 4,
 "nbformat_minor": 1
}
